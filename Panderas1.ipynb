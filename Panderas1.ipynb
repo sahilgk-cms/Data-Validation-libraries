{
 "cells": [
  {
   "cell_type": "code",
   "execution_count": 1,
   "id": "6dba0648-12f9-442a-88e4-c865d56a9f67",
   "metadata": {},
   "outputs": [],
   "source": [
    "import pandas as pd\n",
    "import pandera.pandas as pa\n",
    "import json"
   ]
  },
  {
   "cell_type": "markdown",
   "id": "68574401-a791-44fe-b006-0ed046230fd0",
   "metadata": {},
   "source": [
    "**Documentation**: https://pandera.readthedocs.io/en/stable/"
   ]
  },
  {
   "cell_type": "code",
   "execution_count": 3,
   "id": "4e9b9b1c-88f9-402f-8f33-e42993d885f2",
   "metadata": {},
   "outputs": [],
   "source": [
    "def safe_json(obj):\n",
    "    \"\"\"Convert non-serializable objects into JSON-safe types.\"\"\"\n",
    "    if isinstance(obj, (bytes, bytearray)):\n",
    "        return obj.decode(\"utf-8\", errors=\"replace\")\n",
    "    elif isinstance(obj, Exception):\n",
    "        return str(obj)  # ✅ handle ValueError, TypeError, etc.\n",
    "    elif hasattr(obj, \"__dict__\"):\n",
    "        return obj.__dict__  # fallback for objects like Pydantic internal structures\n",
    "    return str(obj)  # final fallback for any unknown types"
   ]
  },
  {
   "cell_type": "markdown",
   "id": "d791de94-14ef-4026-bae8-10ecfae7828e",
   "metadata": {},
   "source": [
    "**Method 1: DataFrameModel**"
   ]
  },
  {
   "cell_type": "code",
   "execution_count": 12,
   "id": "7dfa419b-2dc9-42ca-b027-50aefbd99bed",
   "metadata": {},
   "outputs": [],
   "source": [
    "class Schema(pa.DataFrameModel):\n",
    "    user_name: str = pa.Field()\n",
    "    book_name: str = pa.Field()\n",
    "    rating: float = pa.Field(ge = 0.0, lt = 5.0)\n",
    "\n",
    "    @pa.check(\"user_name\")\n",
    "    def check_username(cls, \n",
    "                series: pd.Series) -> pd.Series:\n",
    "        return series.str.len() >= 3\n",
    "\n",
    "\n",
    "    class Config:\n",
    "        strict = True  #disallow extra columns"
   ]
  },
  {
   "cell_type": "code",
   "execution_count": 14,
   "id": "587bd2ca-daed-4ebb-90df-971ee4d5fa50",
   "metadata": {},
   "outputs": [
    {
     "name": "stdout",
     "output_type": "stream",
     "text": [
      "{\n",
      "    \"SCHEMA\": {\n",
      "        \"COLUMN_NOT_IN_SCHEMA\": [\n",
      "            {\n",
      "                \"schema\": \"Schema\",\n",
      "                \"column\": \"Schema\",\n",
      "                \"check\": \"column_in_schema\",\n",
      "                \"error\": \"column 'author_name' not in DataFrameSchema {'user_name': <Schema Column(name=user_name, type=DataType(str))>, 'book_name': <Schema Column(name=book_name, type=DataType(str))>, 'rating': <Schema Column(name=rating, type=DataType(float64))>}\"\n",
      "            }\n",
      "        ]\n",
      "    },\n",
      "    \"DATA\": {\n",
      "        \"DATAFRAME_CHECK\": [\n",
      "            {\n",
      "                \"schema\": \"Schema\",\n",
      "                \"column\": \"user_name\",\n",
      "                \"check\": \"check_username\",\n",
      "                \"error\": \"Column 'user_name' failed element-wise validator number 0: <Check check_username> failure cases: Cd\"\n",
      "            },\n",
      "            {\n",
      "                \"schema\": \"Schema\",\n",
      "                \"column\": \"rating\",\n",
      "                \"check\": \"less_than(5.0)\",\n",
      "                \"error\": \"Column 'rating' failed element-wise validator number 1: less_than(5.0) failure cases: 10.0\"\n",
      "            }\n",
      "        ]\n",
      "    }\n",
      "}\n"
     ]
    }
   ],
   "source": [
    "df = pd.DataFrame({\n",
    "    \"user_name\": [\"Alice\", \"Bob\", \"Cd\"],\n",
    "    \"book_name\": [\"Alice in Wonderland\", \"It\", \"Harry Potter\"],\n",
    "    \"rating\": [3.5, 4.0, 10.0],\n",
    "    \"author_name\": [\"Lewis Carroll\", \"Stephen King\", \"J.K. Rowling\"]\n",
    "})\n",
    "\n",
    "try:\n",
    "    Schema.validate(df, lazy=True)\n",
    "except pa.errors.SchemaErrors as exc:\n",
    "    print(exc)\n",
    "    exc_json = json.loads(str(exc))\n",
    "    with open(\"panderas_errors_1.json\", \"w\") as f:\n",
    "        json.dump(exc_json, f, indent=4, default = safe_json)"
   ]
  },
  {
   "cell_type": "code",
   "execution_count": 20,
   "id": "852bb5c7-e6d8-48ec-aa21-40575d6ca640",
   "metadata": {},
   "outputs": [],
   "source": [
    "class Schema2(pa.DataFrameModel):\n",
    "    user_name: str = pa.Field(unique = True)\n",
    "    book_name: str = pa.Field()\n",
    "    rating: float = pa.Field(ge = 0.0, lt = 5.0)\n",
    "    author_name: str = pa.Field()\n",
    "\n",
    "    @pa.check(\"user_name\")\n",
    "    def check_username(cls, \n",
    "                series: pd.Series) -> pd.Series:\n",
    "        return series.str.len() >= 3\n",
    "\n",
    "\n",
    "    class Config:\n",
    "        strict = True  #disallow extra columns"
   ]
  },
  {
   "cell_type": "code",
   "execution_count": 24,
   "id": "7e7c0c62-6b80-4aea-8a40-3ce620da7c06",
   "metadata": {},
   "outputs": [
    {
     "name": "stdout",
     "output_type": "stream",
     "text": [
      "{\n",
      "    \"DATA\": {\n",
      "        \"SERIES_CONTAINS_DUPLICATES\": [\n",
      "            {\n",
      "                \"schema\": \"Schema2\",\n",
      "                \"column\": \"user_name\",\n",
      "                \"check\": \"field_uniqueness\",\n",
      "                \"error\": \"series 'user_name' contains duplicate values:1    Bob2    BobName: user_name, dtype: object\"\n",
      "            }\n",
      "        ]\n",
      "    },\n",
      "    \"SCHEMA\": {\n",
      "        \"SERIES_CONTAINS_NULLS\": [\n",
      "            {\n",
      "                \"schema\": \"Schema2\",\n",
      "                \"column\": \"book_name\",\n",
      "                \"check\": \"not_nullable\",\n",
      "                \"error\": \"non-nullable series 'book_name' contains null values:1    NoneName: book_name, dtype: object\"\n",
      "            }\n",
      "        ]\n",
      "    }\n",
      "}\n"
     ]
    }
   ],
   "source": [
    "df2 = pd.DataFrame({\n",
    "    \"user_name\": [\"Alice\", \"Bob\", \"Bob\"],\n",
    "    \"book_name\": [\"Alice in Wonderland\", None, \"Harry Potter\"],\n",
    "    \"rating\": [3.5, 4.0, 4.5],\n",
    "    \"author_name\": [\"Lewis Carroll\", \"Stephen King\", \"J.K. Rowling\"]\n",
    "})\n",
    "\n",
    "try:\n",
    "    Schema2.validate(df2, lazy=True)\n",
    "except pa.errors.SchemaErrors as exc:\n",
    "    print(exc)\n",
    "    exc_json = json.loads(str(exc))\n",
    "    with open(\"panderas_errors_2.json\", \"w\") as f:\n",
    "        json.dump(exc_json, f, indent=4, default = safe_json)"
   ]
  },
  {
   "cell_type": "markdown",
   "id": "95e02f35-fc5c-48b1-9c40-cfd1a79b84cc",
   "metadata": {},
   "source": [
    "**Method 2: DataframeSchema**"
   ]
  },
  {
   "cell_type": "code",
   "execution_count": 37,
   "id": "442a6e25-3c47-4e04-b823-808e7ed8c14a",
   "metadata": {},
   "outputs": [
    {
     "name": "stdout",
     "output_type": "stream",
     "text": [
      "{\n",
      "    \"SCHEMA\": {\n",
      "        \"COLUMN_NOT_IN_SCHEMA\": [\n",
      "            {\n",
      "                \"schema\": \"MySchema\",\n",
      "                \"column\": \"MySchema\",\n",
      "                \"check\": \"column_in_schema\",\n",
      "                \"error\": \"column 'extra_column' not in DataFrameSchema {'id': <Schema Column(name=id, type=DataType(int64))>}\"\n",
      "            }\n",
      "        ],\n",
      "        \"WRONG_DATATYPE\": [\n",
      "            {\n",
      "                \"schema\": \"MySchema\",\n",
      "                \"column\": \"id\",\n",
      "                \"check\": \"dtype('int64')\",\n",
      "                \"error\": \"expected series 'id' to have type int64, got float64\"\n",
      "            }\n",
      "        ]\n",
      "    },\n",
      "    \"DATA\": {\n",
      "        \"DATAFRAME_CHECK\": [\n",
      "            {\n",
      "                \"schema\": \"MySchema\",\n",
      "                \"column\": \"id\",\n",
      "                \"check\": \"less_than(10)\",\n",
      "                \"error\": \"Column 'id' failed element-wise validator number 0: less_than(10) failure cases: 30.0\"\n",
      "            }\n",
      "        ]\n",
      "    }\n",
      "}\n"
     ]
    }
   ],
   "source": [
    "schema = pa.DataFrameSchema(\n",
    "    {\"id\": pa.Column(int, pa.Check.lt(10))},\n",
    "    name=\"MySchema\",\n",
    "    strict=True,\n",
    ")\n",
    "\n",
    "df = pd.DataFrame({\"id\": [1, 2.5, 30], \n",
    "                   \"extra_column\": [1, 2, 3]})\n",
    "\n",
    "try:\n",
    "    schema.validate(df, lazy=True)\n",
    "except pa.errors.SchemaErrors as exc:\n",
    "    print(exc)\n",
    "    exc_json = json.loads(str(exc))\n",
    "    with open(\"panderas_errors_5.json\", \"w\") as f:\n",
    "        json.dump(exc_json, f, indent=4, default = safe_json)"
   ]
  },
  {
   "cell_type": "code",
   "execution_count": null,
   "id": "f7250dd7-51de-4f3a-a607-b730085a0935",
   "metadata": {},
   "outputs": [],
   "source": [
    "https://docs.greatexpectations.io/docs/core/connect_to_data/dataframes/"
   ]
  }
 ],
 "metadata": {
  "kernelspec": {
   "display_name": "Python 3 (ipykernel)",
   "language": "python",
   "name": "python3"
  },
  "language_info": {
   "codemirror_mode": {
    "name": "ipython",
    "version": 3
   },
   "file_extension": ".py",
   "mimetype": "text/x-python",
   "name": "python",
   "nbconvert_exporter": "python",
   "pygments_lexer": "ipython3",
   "version": "3.12.4"
  }
 },
 "nbformat": 4,
 "nbformat_minor": 5
}
