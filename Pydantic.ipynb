{
 "cells": [
  {
   "cell_type": "code",
   "execution_count": 15,
   "id": "67d82534-b495-4a76-bf80-d5d9c41a620e",
   "metadata": {},
   "outputs": [],
   "source": [
    "import pydantic\n",
    "from datetime import datetime\n",
    "from pydantic import BaseModel, PositiveInt, Field,  AfterValidator,  BeforeValidator, ValidationError\n",
    "import regex as re\n",
    "from typing import Annotated\n",
    "import json"
   ]
  },
  {
   "cell_type": "code",
   "execution_count": 65,
   "id": "46381960-49be-4f2b-9fbd-5f1c9105e21a",
   "metadata": {},
   "outputs": [],
   "source": [
    "def safe_json(obj):\n",
    "    \"\"\"Convert non-serializable objects into JSON-safe types.\"\"\"\n",
    "    if isinstance(obj, (bytes, bytearray)):\n",
    "        return obj.decode(\"utf-8\", errors=\"replace\")\n",
    "    elif isinstance(obj, Exception):\n",
    "        return str(obj)  # ✅ handle ValueError, TypeError, etc.\n",
    "    elif hasattr(obj, \"__dict__\"):\n",
    "        return obj.__dict__  # fallback for objects like Pydantic internal structures\n",
    "    return str(obj)  # final fallback for any unknown types"
   ]
  },
  {
   "cell_type": "markdown",
   "id": "e36c81b0-8739-43f0-afcc-47f551e9526d",
   "metadata": {},
   "source": [
    "**Documentation:** https://docs.pydantic.dev/latest/"
   ]
  },
  {
   "cell_type": "code",
   "execution_count": 23,
   "id": "c1ccfa2d-955a-4cc9-9713-a245bda8020b",
   "metadata": {},
   "outputs": [],
   "source": [
    "class User(BaseModel):\n",
    "    id: int  \n",
    "    name: str \n",
    "    signup_ts: datetime | None  \n",
    "    tastes: dict[str, PositiveInt]  "
   ]
  },
  {
   "cell_type": "code",
   "execution_count": 39,
   "id": "e67bf6ad-9809-4987-bf2b-2c31ec982dc8",
   "metadata": {},
   "outputs": [
    {
     "name": "stdout",
     "output_type": "stream",
     "text": [
      "User: id=123 name='John Doe' signup_ts=datetime.datetime(2019, 6, 1, 12, 22) tastes={'wine': 9, 'cheese': 7, 'cabbage': 1}\n",
      "Type: <class '__main__.User'>\n",
      "User ID: 123\n",
      "User Name: John Doe\n",
      "User Signup: 2019-06-01 12:22:00\n",
      "User Tastes: {'wine': 9, 'cheese': 7, 'cabbage': 1}\n"
     ]
    }
   ],
   "source": [
    "external_data = {\n",
    "    'id': 123,\n",
    "    \"name\": \"John Doe\",\n",
    "    'signup_ts': '2019-06-01 12:22',  \n",
    "    'tastes': {\n",
    "        'wine': 9,\n",
    "        b'cheese': 7,  \n",
    "        'cabbage': '1',  \n",
    "    },\n",
    "}\n",
    "\n",
    "user = User(**external_data)  \n",
    "print(f\"User: {user}\")\n",
    "print(f\"Type: {type(user)}\")\n",
    "print(f\"User ID: {user.id}\")\n",
    "print(f\"User Name: {user.name}\")\n",
    "print(f\"User Signup: {user.signup_ts}\")\n",
    "print(f\"User Tastes: {user.tastes}\")\n"
   ]
  },
  {
   "cell_type": "code",
   "execution_count": 7,
   "id": "086da9c3-090c-4a24-85cd-d34e7bc9a18a",
   "metadata": {},
   "outputs": [
    {
     "data": {
      "text/plain": [
       "{'id': 123,\n",
       " 'name': 'John Doe',\n",
       " 'signup_ts': datetime.datetime(2019, 6, 1, 12, 22),\n",
       " 'tastes': {'wine': 9, 'cheese': 7, 'cabbage': 1}}"
      ]
     },
     "execution_count": 7,
     "metadata": {},
     "output_type": "execute_result"
    }
   ],
   "source": [
    "user.model_dump()   #this converts the user model into dictionary"
   ]
  },
  {
   "cell_type": "markdown",
   "id": "fbf22e63-268e-4824-9ff3-aec9c48069c7",
   "metadata": {},
   "source": [
    "**Missing field error**"
   ]
  },
  {
   "cell_type": "code",
   "execution_count": 45,
   "id": "806328b9-ec5c-4f9f-acd0-bfd99c688511",
   "metadata": {},
   "outputs": [
    {
     "name": "stdout",
     "output_type": "stream",
     "text": [
      "[{'type': 'missing', 'loc': ('name',), 'msg': 'Field required', 'input': {'id': 123, 'signup_ts': '2019-06-01 12:22', 'tastes': {'wine': 9, 'cheese': 7, 'cabbage': '1'}}, 'url': 'https://errors.pydantic.dev/2.5/v/missing'}]\n"
     ]
    }
   ],
   "source": [
    "# name field is missing\n",
    "external_data = {\n",
    "    'id': 123,\n",
    "    'signup_ts': '2019-06-01 12:22',  \n",
    "    'tastes': {\n",
    "        'wine': 9,\n",
    "        'cheese': 7,  \n",
    "        'cabbage': '1',  \n",
    "    },\n",
    "}\n",
    "\n",
    "try:\n",
    "    user = User(**external_data)  \n",
    "except ValidationError as e:\n",
    "      # Convert error details to a structured dict\n",
    "    error_dict = e.errors()\n",
    "    print(error_dict)\n",
    "\n",
    " # Save to JSON file\n",
    "    with open(\"pydantic_errors_1.json\", \"w\") as f:\n",
    "        json.dump(error_dict, f, indent=4, default = safe_json)\n",
    "    "
   ]
  },
  {
   "cell_type": "code",
   "execution_count": 41,
   "id": "b6b0de39-c1e2-47cb-8c48-b60f91417733",
   "metadata": {},
   "outputs": [
    {
     "name": "stdout",
     "output_type": "stream",
     "text": [
      "User: id=123 name='John Doe' signup_ts=datetime.datetime(2019, 6, 1, 12, 22) tastes={'wine': 9, 'cheese': 7, 'cabbage': 1}\n"
     ]
    }
   ],
   "source": [
    "# even though id is string \"123\". Pydantic is able to parse it into integer\n",
    "external_data = {\n",
    "    'id': \"123\",\n",
    "    \"name\": \"John Doe\",\n",
    "    'signup_ts': '2019-06-01 12:22',  \n",
    "    'tastes': {\n",
    "        'wine': 9,\n",
    "        b'cheese': 7,  \n",
    "        'cabbage': '1',  \n",
    "    },\n",
    "}\n",
    "\n",
    "user = User(**external_data) \n",
    "print(f\"User: {user}\")"
   ]
  },
  {
   "cell_type": "markdown",
   "id": "4a70cac6-0bc3-4c68-b26d-2c3ba5ae9b73",
   "metadata": {},
   "source": [
    "**Invalid data type error**"
   ]
  },
  {
   "cell_type": "code",
   "execution_count": 47,
   "id": "106ca2a7-fa30-4634-b1d7-bbc01c9e823f",
   "metadata": {},
   "outputs": [
    {
     "name": "stdout",
     "output_type": "stream",
     "text": [
      "[{'type': 'int_parsing', 'loc': ('id',), 'msg': 'Input should be a valid integer, unable to parse string as an integer', 'input': '123a', 'url': 'https://errors.pydantic.dev/2.5/v/int_parsing'}]\n"
     ]
    }
   ],
   "source": [
    "# here the id string is invalid as \"123a\" cannot be parsed into integer\n",
    "external_data = {\n",
    "    'id': \"123a\",\n",
    "    \"name\": \"John Doe\",\n",
    "    'signup_ts': '2019-06-01 12:22',  \n",
    "    'tastes': {\n",
    "        'wine': 9,\n",
    "        'cheese': 7,  \n",
    "        'cabbage': '1',  \n",
    "    },\n",
    "}\n",
    "\n",
    "try:\n",
    "    user = User(**external_data)\n",
    "except ValidationError as e:\n",
    "      # Convert error details to a structured dict\n",
    "    error_dict = e.errors()\n",
    "    print(error_dict)\n",
    "\n",
    " # Save to JSON file\n",
    "    with open(\"pydantic_errors_2.json\", \"w\") as f:\n",
    "        json.dump(error_dict, f, indent=4, default = safe_json)"
   ]
  },
  {
   "cell_type": "markdown",
   "id": "2a4b34ff-83ab-4008-b232-ef81ed29c272",
   "metadata": {},
   "source": [
    "**Field:** https://docs.pydantic.dev/latest/api/fields/#pydantic.fields.Field"
   ]
  },
  {
   "cell_type": "code",
   "execution_count": 49,
   "id": "53f626b0-ddf1-4396-a039-e71c1993e798",
   "metadata": {},
   "outputs": [],
   "source": [
    "class BookRating(BaseModel):\n",
    "    user_name: str = Field(description = \"Name of the user\", \n",
    "                           min_length = 3, \n",
    "                           max_length = 100)\n",
    "    book_name: str = Field(description = \"Name of the book\",\n",
    "                           min_length = 2, \n",
    "                           max_length = 100)\n",
    "    rating: float = Field(description = \"Rating\", \n",
    "                          gt = 1.0, lt = 5.0)"
   ]
  },
  {
   "cell_type": "code",
   "execution_count": 51,
   "id": "6160bbda-cdc4-4418-a28a-8994541b3aec",
   "metadata": {},
   "outputs": [
    {
     "data": {
      "text/plain": [
       "BookRating(user_name='Bob', book_name='Alice in Wonderland', rating=3.5)"
      ]
     },
     "execution_count": 51,
     "metadata": {},
     "output_type": "execute_result"
    }
   ],
   "source": [
    "external_data = {\n",
    "    \"user_name\": \"Bob\",\n",
    "    \"book_name\": \"Alice in Wonderland\",\n",
    "    \"rating\": 3.5\n",
    "}\n",
    "\n",
    "br = BookRating(**external_data)\n",
    "br"
   ]
  },
  {
   "cell_type": "code",
   "execution_count": 55,
   "id": "0efa8451-3c22-44d6-b8cb-ef28dc034fc8",
   "metadata": {},
   "outputs": [
    {
     "name": "stdout",
     "output_type": "stream",
     "text": [
      "[{'type': 'string_too_short', 'loc': ('user_name',), 'msg': 'String should have at least 3 characters', 'input': 'A', 'ctx': {'min_length': 3}, 'url': 'https://errors.pydantic.dev/2.5/v/string_too_short'}, {'type': 'less_than', 'loc': ('rating',), 'msg': 'Input should be less than 5', 'input': 10.0, 'ctx': {'lt': 5.0}, 'url': 'https://errors.pydantic.dev/2.5/v/less_than'}]\n"
     ]
    }
   ],
   "source": [
    "# username is a string with length 1.\n",
    "external_data = {\n",
    "    \"user_name\": \"A\",\n",
    "    \"book_name\": \"Alice in Wonderland\",\n",
    "    \"rating\": 10.0\n",
    "}\n",
    "\n",
    "try:\n",
    "    br = BookRating(**external_data)\n",
    "except ValidationError as e:\n",
    "      # Convert error details to a structured dict\n",
    "    error_dict = e.errors()\n",
    "    print(error_dict)\n",
    "\n",
    " # Save to JSON file\n",
    "    with open(\"pydantic_errors_3.json\", \"w\") as f:\n",
    "        json.dump(error_dict, f, indent=4, default = safe_json)"
   ]
  },
  {
   "cell_type": "markdown",
   "id": "ad419381-a5f2-44c4-a4b5-4ba32f10f260",
   "metadata": {},
   "source": [
    "**Custom Validator:** https://docs.pydantic.dev/latest/concepts/validators/#__tabbed_1_1"
   ]
  },
  {
   "cell_type": "code",
   "execution_count": 67,
   "id": "733cb3c1-98b7-46a2-a299-87469a70b329",
   "metadata": {},
   "outputs": [],
   "source": [
    "def validate_username(v):\n",
    "    if not re.match(r\"^[A-Za-z\\s]+$\", v):\n",
    "        raise ValueError(\"user_name must contain only letters and spaces\")\n",
    "    if len(v) < 3 or len(v) > 100:\n",
    "        raise ValueError(\"user_name should have between 3 to 100 characters\")\n",
    "    return v\n",
    "\n",
    "class BookRating2(BaseModel):\n",
    "    user_name: Annotated[\n",
    "        str,\n",
    "        AfterValidator(validate_username),\n",
    "        Field(description=\"Name of the user, letters and spaces only, 3-100 chars\")\n",
    "        ]\n",
    "    book_name: str = Field(description = \"Name of the book\", \n",
    "                           min_length = 2, \n",
    "                           max_length = 100)\n",
    "    rating: float = Field(description = \"Rating\", \n",
    "                          gt = 1.0, lt = 5.0)"
   ]
  },
  {
   "cell_type": "code",
   "execution_count": 69,
   "id": "27d4badc-d5a7-4e30-9168-3e50b657e27f",
   "metadata": {},
   "outputs": [
    {
     "name": "stdout",
     "output_type": "stream",
     "text": [
      "[{'type': 'value_error', 'loc': ('user_name',), 'msg': 'Value error, user_name must contain only letters and spaces', 'input': 'Bob2', 'ctx': {'error': ValueError('user_name must contain only letters and spaces')}, 'url': 'https://errors.pydantic.dev/2.5/v/value_error'}]\n"
     ]
    }
   ],
   "source": [
    "external_data = {\n",
    "    \"user_name\": \"Bob2\",\n",
    "    \"book_name\": \"Alice in Wonderland\",\n",
    "    \"rating\": 3.5\n",
    "}\n",
    "\n",
    "try:\n",
    "    br2 = BookRating2(**external_data)\n",
    "except ValidationError as e:\n",
    "      # Convert error details to a structured dict\n",
    "    error_dict = e.errors()\n",
    "    print(error_dict)\n",
    "\n",
    " # Save to JSON file\n",
    "    with open(\"pydantic_errors_4.json\", \"w\") as f:\n",
    "        json.dump(error_dict, f, indent=4, default = safe_json)"
   ]
  },
  {
   "cell_type": "markdown",
   "id": "da0ccae4-7f58-4bab-82e8-187336fcd8e8",
   "metadata": {},
   "source": [
    "**Difference between BeforeValidator and AfterValidator**"
   ]
  },
  {
   "cell_type": "code",
   "execution_count": 115,
   "id": "de30bbd3-7039-4971-a457-e65a6d8260d8",
   "metadata": {},
   "outputs": [
    {
     "name": "stdout",
     "output_type": "stream",
     "text": [
      "Alice\n",
      "Alice\n"
     ]
    }
   ],
   "source": [
    "def strip_whitespace(v: str) -> str:\n",
    "    return v.strip()\n",
    "\n",
    "class User1(BaseModel):\n",
    "    name: Annotated[str, BeforeValidator(strip_whitespace)]\n",
    "\n",
    "class User2(BaseModel):\n",
    "    name: Annotated[str, AfterValidator(strip_whitespace)]\n",
    "\n",
    "user1 = User1(name=\"   Alice   \")\n",
    "print(user1.name)  \n",
    "\n",
    "user2 = User2(name=\"   Alice   \")\n",
    "print(user2.name)  "
   ]
  },
  {
   "cell_type": "code",
   "execution_count": 123,
   "id": "d657ded4-c2c9-41bb-81bf-a913cad36f32",
   "metadata": {},
   "outputs": [
    {
     "name": "stdout",
     "output_type": "stream",
     "text": [
      "BeforeValidator: <class 'int'> 123\n",
      "123 | type: <class 'str'>\n"
     ]
    },
    {
     "ename": "ValidationError",
     "evalue": "1 validation error for UserAfter\nname\n  Input should be a valid string [type=string_type, input_value=123, input_type=int]\n    For further information visit https://errors.pydantic.dev/2.5/v/string_type",
     "output_type": "error",
     "traceback": [
      "\u001b[1;31m---------------------------------------------------------------------------\u001b[0m",
      "\u001b[1;31mValidationError\u001b[0m                           Traceback (most recent call last)",
      "Cell \u001b[1;32mIn[123], line 21\u001b[0m\n\u001b[0;32m     19\u001b[0m user_b \u001b[38;5;241m=\u001b[39m UserBefore(name\u001b[38;5;241m=\u001b[39minput_value)\n\u001b[0;32m     20\u001b[0m \u001b[38;5;28mprint\u001b[39m(\u001b[38;5;124mf\u001b[39m\u001b[38;5;124m\"\u001b[39m\u001b[38;5;132;01m{\u001b[39;00muser_b\u001b[38;5;241m.\u001b[39mname\u001b[38;5;132;01m}\u001b[39;00m\u001b[38;5;124m | type: \u001b[39m\u001b[38;5;132;01m{\u001b[39;00m\u001b[38;5;28mtype\u001b[39m(user_b\u001b[38;5;241m.\u001b[39mname)\u001b[38;5;132;01m}\u001b[39;00m\u001b[38;5;124m\"\u001b[39m)\n\u001b[1;32m---> 21\u001b[0m user_a \u001b[38;5;241m=\u001b[39m UserAfter(name\u001b[38;5;241m=\u001b[39minput_value)\n",
      "File \u001b[1;32m~\\anaconda3\\Lib\\site-packages\\pydantic\\main.py:164\u001b[0m, in \u001b[0;36mBaseModel.__init__\u001b[1;34m(__pydantic_self__, **data)\u001b[0m\n\u001b[0;32m    162\u001b[0m \u001b[38;5;66;03m# `__tracebackhide__` tells pytest and some other tools to omit this function from tracebacks\u001b[39;00m\n\u001b[0;32m    163\u001b[0m __tracebackhide__ \u001b[38;5;241m=\u001b[39m \u001b[38;5;28;01mTrue\u001b[39;00m\n\u001b[1;32m--> 164\u001b[0m __pydantic_self__\u001b[38;5;241m.\u001b[39m__pydantic_validator__\u001b[38;5;241m.\u001b[39mvalidate_python(data, self_instance\u001b[38;5;241m=\u001b[39m__pydantic_self__)\n",
      "\u001b[1;31mValidationError\u001b[0m: 1 validation error for UserAfter\nname\n  Input should be a valid string [type=string_type, input_value=123, input_type=int]\n    For further information visit https://errors.pydantic.dev/2.5/v/string_type"
     ]
    }
   ],
   "source": [
    "# BeforeValidator converts the value to string first\n",
    "def clean_before(v):\n",
    "    print(\"BeforeValidator:\", type(v), repr(v))\n",
    "    return str(v).strip()\n",
    "\n",
    "def clean_after(v):\n",
    "    print(\"AfterValidator:\", type(v), repr(v))\n",
    "    return v.strip()\n",
    "\n",
    "class UserBefore(BaseModel):\n",
    "    name: Annotated[str, BeforeValidator(clean_before)]\n",
    "\n",
    "class UserAfter(BaseModel):\n",
    "    name: Annotated[str, AfterValidator(clean_after)]\n",
    "\n",
    "# Pass a non-string input\n",
    "input_value = 123\n",
    "\n",
    "user_b = UserBefore(name=input_value)\n",
    "print(f\"{user_b.name} | type: {type(user_b.name)}\")\n",
    "user_a = UserAfter(name=input_value)"
   ]
  },
  {
   "cell_type": "code",
   "execution_count": 127,
   "id": "d6929d7c-a123-42dc-a585-88b409a9e6d4",
   "metadata": {},
   "outputs": [
    {
     "name": "stdout",
     "output_type": "stream",
     "text": [
      "BeforeValidator: <class 'str'> '123'\n",
      "123 | type: <class 'int'>\n",
      "AfterValidator: <class 'int'> 123\n",
      "123 | type: <class 'int'>\n"
     ]
    }
   ],
   "source": [
    "# BeforeValidator converts the value to string first\n",
    "def clean_before(v):\n",
    "    print(\"BeforeValidator:\", type(v), repr(v))\n",
    "    return v\n",
    "\n",
    "def clean_after(v):\n",
    "    print(\"AfterValidator:\", type(v), repr(v))\n",
    "    return v\n",
    "\n",
    "class UserBefore(BaseModel):\n",
    "    name: Annotated[int, BeforeValidator(clean_before)]\n",
    "\n",
    "class UserAfter(BaseModel):\n",
    "    name: Annotated[int, AfterValidator(clean_after)]\n",
    "\n",
    "# Pass a string input\n",
    "input_value = \"123\"\n",
    "\n",
    "user_b = UserBefore(name=input_value)\n",
    "print(f\"{user_b.name} | type: {type(user_b.name)}\")\n",
    "user_a = UserAfter(name=input_value)\n",
    "print(f\"{user_a.name} | type: {type(user_a.name)}\")"
   ]
  }
 ],
 "metadata": {
  "kernelspec": {
   "display_name": "Python 3 (ipykernel)",
   "language": "python",
   "name": "python3"
  },
  "language_info": {
   "codemirror_mode": {
    "name": "ipython",
    "version": 3
   },
   "file_extension": ".py",
   "mimetype": "text/x-python",
   "name": "python",
   "nbconvert_exporter": "python",
   "pygments_lexer": "ipython3",
   "version": "3.12.4"
  }
 },
 "nbformat": 4,
 "nbformat_minor": 5
}
